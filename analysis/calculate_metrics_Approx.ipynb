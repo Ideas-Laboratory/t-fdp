{
 "cells": [
  {
   "cell_type": "code",
   "execution_count": 1,
   "metadata": {},
   "outputs": [],
   "source": [
    "import warnings\n",
    "warnings.filterwarnings('ignore')\n",
    "import sys\n",
    "import os\n",
    "srcpath = os.path.join(os.path.abspath(os.path.dirname(\"../\"),))\n",
    "sys.path.append(srcpath)\n",
    "from src.readGraph import readgraph\n",
    "import cupy as cnp\n",
    "import numpy as np \n",
    "import time\n",
    "import pandas as pd\n",
    "from metrics import SE,NP1,NP2,MA,EC\n",
    "import numba \n",
    "numba.set_num_threads(32)"
   ]
  },
  {
   "cell_type": "code",
   "execution_count": 2,
   "metadata": {},
   "outputs": [],
   "source": [
    "graphs = ['dwt_72', 'lesmis', 'can_96', 'rajat11', 'jazz', 'visbrazil',\n",
    "       'grid17', 'mesh3e1', 'netscience', 'dwt_419','cluster', 'qh882',\n",
    "       'price_1000', 'dwt_1005', 'cage8', 'btree9', 'bcsstk09',\n",
    "       '1138_bus', 'qh1484','clusterHiera' , 'bcspwr07', 'fidapex6', 'block_2000',\n",
    "       'sierpinski3d', 'lp_ship04l', 'data', '3elt', 'USPowerGrid',\n",
    "       'add32', 'ca-GrQc', 'commanche', 'EVA', 'bcsstk33',\n",
    "       'whitaker3', 'crack', 'fe_4elt2', 'fidapex11','bcsstk31', 'bcsstk32', 'finan512', 'luxembourg', 'fe_ocean',\n",
    "        'com-dblp.ungraph',\n",
    "        'com-amazon.ungraph',\n",
    "        'roadNet-PA',\n",
    "        'com-youtube.ungraph',\n",
    "        'roadNet-TX',\n",
    "        'roadNet-CA',\n",
    "        'com-orkut.ungraph',\n",
    "        'com-lj.ungraph']"
   ]
  },
  {
   "cell_type": "code",
   "execution_count": 3,
   "metadata": {},
   "outputs": [],
   "source": [
    "idx_a  = 37 # index_can_be_processed_by_all\n",
    "idx_l = 42 # index_very_large_start"
   ]
  },
  {
   "cell_type": "code",
   "execution_count": 4,
   "metadata": {},
   "outputs": [],
   "source": [
    "dirs = [\"t-FDP_approx/Exact\",\"t-FDP_approx/BH\",\"t-FDP_approx/RVS\",\"t-FDP_approx/ibFFT_CPU\",\"t-FDP_approx/ibFFT_GPU\"]\n",
    "methods = [\"Exact\",\"BH\",\"RVS\",\"ibFFT_CPU\",\"ibFFT_GPU\"]\n",
    "        "
   ]
  },
  {
   "cell_type": "code",
   "execution_count": 5,
   "metadata": {},
   "outputs": [],
   "source": [
    "repetitions = 5\n",
    "values = np.zeros((idx_l,len(methods)))\n",
    "graphidx = 0\n",
    "# for graphname in (graphs): # all graphs\n",
    "for graphname in (graphs[:idx_l]):\n",
    "    filename = \"../data/\" + graphname + \".mtx\"\n",
    "    graph,edgesrc,edgetgt,_ = readgraph(filename,False)\n",
    "    for i in range(len(methods)):\n",
    "        sums = 0\n",
    "        for k in range(repetitions):\n",
    "            posfile = \"../layout_results/\" + dirs[i] + \"/\" + graphname + \".\" + methods[i] + \"_\" + str(k)\n",
    "            if os.path.isfile(posfile):\n",
    "                if methods[i] == \"DRGraph\":\n",
    "                    pos = np.loadtxt(posfile,delimiter=' ',skiprows=1)\n",
    "                    ## The first line of DRGraph's output is the description of the number of rows and columns\n",
    "                else:\n",
    "                    pos = np.loadtxt(posfile,delimiter=' ')\n",
    "                se,se_norm = SE(pos, edgesrc, edgetgt)\n",
    "            else:\n",
    "                se = np.nan\n",
    "                se_norm = np.nan\n",
    "            sums += se_norm     \n",
    "        mean = sums/repetitions\n",
    "        values[graphidx,i] = mean\n",
    "    graphidx+=1\n",
    "df_se = pd.DataFrame(index = graphs[:idx_l])\n",
    "for i in range(len(methods)):\n",
    "    df_se[methods[i]] = values[:,i]\n",
    "df_se.to_csv(\"./results/Approx_SE.csv\")"
   ]
  },
  {
   "cell_type": "code",
   "execution_count": 6,
   "metadata": {},
   "outputs": [
    {
     "data": {
      "text/plain": [
       "Exact        0.078894\n",
       "BH           0.078986\n",
       "RVS          0.105188\n",
       "ibFFT-CPU    0.078702\n",
       "ibFFT-GPU    0.078358\n",
       "dtype: float64"
      ]
     },
     "execution_count": 6,
     "metadata": {},
     "output_type": "execute_result"
    }
   ],
   "source": [
    "df_se[:idx_a].mean()"
   ]
  },
  {
   "cell_type": "code",
   "execution_count": 7,
   "metadata": {},
   "outputs": [],
   "source": [
    "from numba_kdtree import KDTree\n",
    "\n",
    "repetitions = 5\n",
    "values = np.zeros((idx_l,len(methods)))\n",
    "graphidx = 0\n",
    "# for graphname in (graphs): # all graphs\n",
    "for graphname in (graphs[:idx_l]):\n",
    "    filename = \"../data/\" + graphname + \".mtx\"\n",
    "    graph,edgesrc,edgetgt,_ = readgraph(filename,False)\n",
    "    for i in range(len(methods)):\n",
    "        sums = 0\n",
    "        for k in range(repetitions):\n",
    "            posfile = \"../layout_results/\" + dirs[i] + \"/\" + graphname + \".\" + methods[i] + \"_\" + str(k)\n",
    "            if os.path.isfile(posfile):\n",
    "                if methods[i] == \"DRGraph\":\n",
    "                    pos = np.loadtxt(posfile,delimiter=' ',skiprows=1)\n",
    "                    ## The first line of DRGraph's output is the description of the number of rows and columns\n",
    "                else:\n",
    "                    pos = np.loadtxt(posfile,delimiter=' ')\n",
    "                kdtree = KDTree(pos, leafsize=10)\n",
    "                np1 = NP1(pos, edgesrc, edgetgt,kdtree)\n",
    "            else:\n",
    "                np1 = np.nan\n",
    "            sums += np1     \n",
    "        mean = sums/repetitions\n",
    "        values[graphidx,i] = mean\n",
    "    graphidx+=1\n",
    "df_np1 = pd.DataFrame(index = graphs[:idx_l])\n",
    "for i in range(len(methods)):\n",
    "    df_np1[methods[i]] = values[:,i]\n",
    "df_np1.to_csv(\"./results/Approx_NP1.csv\")"
   ]
  },
  {
   "cell_type": "code",
   "execution_count": 8,
   "metadata": {},
   "outputs": [
    {
     "data": {
      "text/plain": [
       "Exact        0.598521\n",
       "BH           0.598745\n",
       "RVS          0.467575\n",
       "ibFFT-CPU    0.598252\n",
       "ibFFT-GPU    0.597003\n",
       "dtype: float64"
      ]
     },
     "execution_count": 8,
     "metadata": {},
     "output_type": "execute_result"
    }
   ],
   "source": [
    "df_np1[:idx_a].mean()"
   ]
  },
  {
   "cell_type": "code",
   "execution_count": 9,
   "metadata": {},
   "outputs": [],
   "source": [
    "from numba_kdtree import KDTree\n",
    "\n",
    "repetitions = 5\n",
    "values = np.zeros((idx_l,len(methods)))\n",
    "graphidx = 0\n",
    "# for graphname in (graphs): # all graphs\n",
    "for graphname in (graphs[:idx_l]):\n",
    "    filename = \"../data/\" + graphname + \".mtx\"\n",
    "    graph,edgesrc,edgetgt,_ = readgraph(filename,False)\n",
    "    for i in range(len(methods)):\n",
    "        sums = 0\n",
    "        for k in range(repetitions):\n",
    "            posfile = \"../layout_results/\" + dirs[i] + \"/\" + graphname + \".\" + methods[i] + \"_\" + str(k)\n",
    "            if os.path.isfile(posfile):\n",
    "                if methods[i] == \"DRGraph\":\n",
    "                    pos = np.loadtxt(posfile,delimiter=' ',skiprows=1)\n",
    "                    ## The first line of DRGraph's output is the description of the number of rows and columns\n",
    "                else:\n",
    "                    pos = np.loadtxt(posfile,delimiter=' ')\n",
    "                kdtree = KDTree(pos, leafsize=10)\n",
    "                np2 = NP2(pos, edgesrc, edgetgt,kdtree)\n",
    "            else:\n",
    "                np2 = np.nan\n",
    "            sums += np2     \n",
    "        mean = sums/repetitions\n",
    "        values[graphidx,i] = mean\n",
    "    graphidx+=1\n",
    "df_np2 = pd.DataFrame(index = graphs[:idx_l])\n",
    "for i in range(len(methods)):\n",
    "    df_np2[methods[i]] = values[:,i]\n",
    "df_np2.to_csv(\"./results/Approx_NP2.csv\")"
   ]
  },
  {
   "cell_type": "code",
   "execution_count": 10,
   "metadata": {},
   "outputs": [
    {
     "data": {
      "text/plain": [
       "Exact        0.625307\n",
       "BH           0.625391\n",
       "RVS          0.548972\n",
       "ibFFT-CPU    0.628405\n",
       "ibFFT-GPU    0.629298\n",
       "dtype: float64"
      ]
     },
     "execution_count": 10,
     "metadata": {},
     "output_type": "execute_result"
    }
   ],
   "source": [
    "df_np2[:idx_a].mean()"
   ]
  },
  {
   "cell_type": "code",
   "execution_count": 11,
   "metadata": {},
   "outputs": [],
   "source": [
    "from numba_kdtree import KDTree\n",
    "\n",
    "repetitions = 5\n",
    "values = np.zeros((idx_l,len(methods)))\n",
    "graphidx = 0\n",
    "for graphname in (graphs[:idx_l]):\n",
    "    filename = \"../data/\" + graphname + \".mtx\"\n",
    "    graph,edgesrc,edgetgt,_ = readgraph(filename,False)\n",
    "    for i in range(len(methods)):\n",
    "        sums = 0\n",
    "        for k in range(repetitions):\n",
    "            posfile = \"../layout_results/\" + dirs[i] + \"/\" + graphname + \".\" + methods[i] + \"_\" + str(k)\n",
    "            if os.path.isfile(posfile):\n",
    "                if methods[i] == \"DRGraph\":\n",
    "                    pos = np.loadtxt(posfile,delimiter=' ',skiprows=1)\n",
    "                    ## The first line of DRGraph's output is the description of the number of rows and columns\n",
    "                else:\n",
    "                    pos = np.loadtxt(posfile,delimiter=' ')\n",
    "                kdtree = KDTree(pos, leafsize=10)\n",
    "                ec_n,ec = EC(pos,graph,edgesrc)\n",
    "            else:\n",
    "                ec = np.nan\n",
    "            sums += ec     \n",
    "        mean = sums/repetitions\n",
    "        values[graphidx,i] = mean\n",
    "    graphidx+=1\n",
    "df_ec = pd.DataFrame(index = graphs[:idx_l])\n",
    "for i in range(len(methods)):\n",
    "    df_ec[methods[i]] = values[:,i]\n",
    "df_ec.to_csv(\"./results/Approx_EC.csv\")"
   ]
  },
  {
   "cell_type": "code",
   "execution_count": 12,
   "metadata": {},
   "outputs": [
    {
     "data": {
      "text/plain": [
       "Exact        0.952246\n",
       "BH           0.951018\n",
       "RVS          0.943950\n",
       "ibFFT-CPU    0.952359\n",
       "ibFFT-GPU    0.952740\n",
       "dtype: float64"
      ]
     },
     "execution_count": 12,
     "metadata": {},
     "output_type": "execute_result"
    }
   ],
   "source": [
    "df_ec[:idx_a].mean()"
   ]
  },
  {
   "cell_type": "code",
   "execution_count": 13,
   "metadata": {},
   "outputs": [],
   "source": [
    "from numba_kdtree import KDTree\n",
    "\n",
    "repetitions = 5\n",
    "values = np.zeros((idx_l,len(methods)))\n",
    "graphidx = 0\n",
    "for graphname in (graphs[:idx_l]):\n",
    "    filename = \"../data/\" + graphname + \".mtx\"\n",
    "    graph,edgesrc,edgetgt,_ = readgraph(filename,False)\n",
    "    for i in range(len(methods)):\n",
    "        sums = 0\n",
    "        for k in range(repetitions):\n",
    "            posfile = \"../layout_results/\" + dirs[i] + \"/\" + graphname + \".\" + methods[i] + \"_\" + str(k)\n",
    "            if os.path.isfile(posfile):\n",
    "                if methods[i] == \"DRGraph\":\n",
    "                    pos = np.loadtxt(posfile,delimiter=' ',skiprows=1)\n",
    "                    ## The first line of DRGraph's output is the description of the number of rows and columns\n",
    "                else:\n",
    "                    pos = np.loadtxt(posfile,delimiter=' ')\n",
    "                kdtree = KDTree(pos, leafsize=10)\n",
    "                ma = MA(pos, edgesrc, edgetgt)\n",
    "            else:\n",
    "                ma = np.nan\n",
    "            sums += ma     \n",
    "        mean = sums/repetitions\n",
    "        values[graphidx,i] = mean\n",
    "    graphidx+=1\n",
    "df_ma = pd.DataFrame(index = graphs[:idx_l])\n",
    "for i in range(len(methods)):\n",
    "    df_ma[methods[i]] = values[:,i]\n",
    "df_ma.to_csv(\"./results/Approx_MA.csv\")"
   ]
  },
  {
   "cell_type": "code",
   "execution_count": 14,
   "metadata": {},
   "outputs": [
    {
     "data": {
      "text/plain": [
       "Exact        0.343800\n",
       "BH           0.344138\n",
       "RVS          0.259531\n",
       "ibFFT-CPU    0.342703\n",
       "ibFFT-GPU    0.341086\n",
       "dtype: float64"
      ]
     },
     "execution_count": 14,
     "metadata": {},
     "output_type": "execute_result"
    }
   ],
   "source": [
    "df_ma[:idx_a].mean()"
   ]
  }
 ],
 "metadata": {
  "kernelspec": {
   "display_name": "Python 3",
   "language": "python",
   "name": "python3"
  },
  "language_info": {
   "codemirror_mode": {
    "name": "ipython",
    "version": 3
   },
   "file_extension": ".py",
   "mimetype": "text/x-python",
   "name": "python",
   "nbconvert_exporter": "python",
   "pygments_lexer": "ipython3",
   "version": "3.8.13"
  }
 },
 "nbformat": 4,
 "nbformat_minor": 4
}
